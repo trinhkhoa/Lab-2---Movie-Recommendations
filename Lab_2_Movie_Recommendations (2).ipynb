{
 "cells": [
  {
   "cell_type": "markdown",
   "metadata": {
    "id": "b3a91e18"
   },
   "source": [
    "## DA 350 SP23 Lab 2 - Movie Recommendations\n",
    "![Whits](https://d112y698adiu2z.cloudfront.net/photos/production/software_photos/002/033/904/datas/original.jpg)"
   ]
  },
  {
   "cell_type": "markdown",
   "metadata": {
    "id": "fd117b4a"
   },
   "source": [
    "#### This Lab is due Wednesday night, February 1.\n",
    "Please use this .ipynb file as a starting point and write your code and fill in your answers directly in the notebook.  I will ask specific questions in <b> bolded font </b>.  For written answers, please create the cell as a Markdown type so the text displays neatly.  For code, comment sufficiently so I can understand your process.  Please try to delete unnecessary, old code so it is easy for me to evluate.  When you have finished, displayed all code outputs and written all answers, please save and submit to Canvas as a .html file."
   ]
  },
  {
   "cell_type": "markdown",
   "metadata": {
    "id": "8dd70e1b"
   },
   "source": [
    "## Background and Objective:\n",
    "In this lab you will build a system for recommending movies to viewers. These so-called “Recommender Systems” are incredibly popular and used in applications such as presenting products to shoppers on Amazon, finding new music for listeners on Pandora and Spotify, suggesting pages and users on social media, and identifying potential romantic candidates on dating websites (appropriate for Valentine’s Day!). From 2006 to 2009, Netflix ran a competition to improve their recommendation system by 10%, and eventually gave a $1,000,000 prize to a team that used methods similar to what you will learn in this lab.\n",
    "\n",
    "Our precise goal for this lab is to make decisions about whether to send a user an ad for a movie before they have seen it. We will make predictions about whether a user would watch the movie given the ad, then adapt the probability predictions into decisions. There are two primary approaches to implementing recommender system, both of which use a machine-learning algorithm called k-nearest neighbors.\n",
    "\n",
    "The first approach is called content based, and the idea is to compare the movie we want a prediction of to similar movies the user has rated. For example, Danielle likes romantic comedies and dislikes action movies, so we could predict she will like a new romantic movie.\n",
    "\n",
    "The second approach is called collaborative filtering, and the theory is to match the user to other similar users on the basis of their ratings. For example, Adam, Betty, and Carlos all like sci-fi action movies and dislike documentaries, so we could predict Adam’s review of a new movie using Betty and Carlos’s reviews of that movie.\n",
    "\n",
    "In this lab, we will explore the second approach, predicting whether a user has seen (rated) a movie or not based on their similarity to similar users. This has the advantage of there being no missing data - by virtue of no rating being present, it tells us the user has not seen the movie.\n",
    "\n",
    "We will use the movie ‘The Princess Bride’ for our ads. The movie has everything - adventure, comedy, romance, action, memorable quotes.\n",
    "\n",
    "![PB](https://www.slantmagazine.com/wp-content/uploads/2018/11/princessbride.jpg)\n",
    "\n",
    "(See anything cool about the movie title in the image? Try turning it upside down!)\n",
    "\n",
    "The scenario is the following: you work for a video rental service where users pay \\\\$3 to digitally rent The Princess Bride (TPB) for 24 hours. After paying for internet bandwidth and the movie royalties, you stand to make \\\\$1 profit on each user that watches TPB. You have access to user’s viewing history, knowing exactly which movies they have seen. You can send an ad for \\\\$0.20 to specific users. You would like a strategy to target specific users who have not yet watched TPB to maximize your profit."
   ]
  },
  {
   "cell_type": "markdown",
   "metadata": {
    "id": "f1934d81"
   },
   "source": [
    "## Data:\n",
    "The data we will use comes from MovieLens, a movie recommendation service. It contains 20,000,263 movie ratings from 138,493 users across 27,278 movies from 2015 and earlier.\n",
    "\n",
    "\"movies.csv\" contains a subset of 1,319 of the more popularly watched movies to reduce the size of the data and make the analyses more computationally tractable.\n",
    "\n",
    "\"train_movies.csv\" and \"test_movies.csv\" are two data sets I cleaned for you, including randomly sampling only 10,000 users. Both data sets are in a wide format - each row is a user, each column is a movie, and entries are ratings. Movies that have not been rated have a null value. I have also prefaced the movieIds with ‘mId’ to avoid problems with naming columns starting with numbers.\n",
    "\n",
    "As in practice, you will use the training data to train the model, make modeling decisions, and estimate future performance. Then, you will use the test data to evaluate how well your model works in practice."
   ]
  },
  {
   "cell_type": "code",
   "execution_count": null,
   "metadata": {
    "id": "99d7395e"
   },
   "outputs": [],
   "source": [
    "#Import packages\n",
    "import numpy as np\n",
    "import pandas as pd\n",
    "import scipy\n",
    "import matplotlib.pyplot as plt\n",
    "from sklearn.neighbors import KNeighborsClassifier\n",
    "import sklearn.metrics"
   ]
  },
  {
   "cell_type": "markdown",
   "metadata": {
    "id": "36eb727d"
   },
   "source": [
    "<b>1) First read in the training and test set movie ratings data as pandas data frames with the UserId as the index column.  Convert the ratings of both the training and test sets into binary data - 0 if the user has not rated that movie, 1 if they have rated it.</b>"
   ]
  },
  {
   "cell_type": "code",
   "execution_count": null,
   "metadata": {
    "id": "up6VLe6cwYUc"
   },
   "outputs": [],
   "source": [
    "train_movie = pd.read_csv('train_movies.csv')\n",
    "test_movie = pd.read_csv('test_movies.csv')"
   ]
  },
  {
   "cell_type": "code",
   "execution_count": null,
   "metadata": {
    "id": "20943b74"
   },
   "outputs": [],
   "source": [
    "#Write your code/answer to 1) in this cell\n",
    "def clear_data(movies):\n",
    "    df = movies.fillna(0)\n",
    "    df = movies.applymap(lambda x: 1 if x == 1 else 0 if x != x else 1)\n",
    "    df = df.drop('userId', axis=1)\n",
    "    return pd.DataFrame(df)\n",
    "\n",
    "train_mov = clear_data(train_movie)\n",
    "test_mov = clear_data(test_movie)"
   ]
  },
  {
   "cell_type": "markdown",
   "metadata": {
    "id": "8446b89d"
   },
   "source": [
    "<b> 2) Pick a subset of movies (at least 10) to use as predictions that the user has watched The Princess Bride.  Ideally these should be movies you think would make good predictors - similar traits, similar genres, similar years, etc.  You can look at the \"movies.csv\" file (I suggest in Excel or Google sheets and not Python) to see the available options.  Use the Scikit learn package to build a k-nearest neighbors classification model on the training data to predict whether a user has watched The Princess Bride (1) or not (0) based on their similarity to other users. </b>\n",
    "\n",
    "The general syntax of using k-nearest neighbors classifier is to first initialize a model with \"KNeighborsClassifier()\" then fit it to training data with \"your_model.fit(predictors, response)\".  https://python-course.eu/machine-learning/k-nearest-neighbor-classifier-with-sklearn.php provides a simple example.   Be sure not to use userId as a predictor variable!\n"
   ]
  },
  {
   "cell_type": "code",
   "execution_count": null,
   "metadata": {
    "id": "6f683078"
   },
   "outputs": [],
   "source": [
    "#Write your code/answer to 2) in this cell\n",
    "import random\n",
    "mov = pd.read_csv('movies.csv')\n",
    "def split_genre(genre):\n",
    "    genres = str(genre)\n",
    "    return genres.split(\"|\")\n",
    "\n",
    "def find_princess_bride_genre():\n",
    "    for i in range(len(mov['title'])):\n",
    "        if mov['title'][i] == 'Princess Bride, The (1987)':\n",
    "            return split_genre(mov['genres'][i])\n",
    "\n",
    "def find_the_nearest_genre():\n",
    "    df = []\n",
    "    genres = find_princess_bride_genre()\n",
    "    for i in range(0, len(genres)):\n",
    "        for j in range(0, 1319):\n",
    "            if genres[i] in mov['genres'][j]:\n",
    "                df.append(mov['title'][j])\n",
    "    return df\n",
    "\n",
    "def random_chosen():\n",
    "    df = []\n",
    "    temp = find_the_nearest_genre()\n",
    "    for i in range(0, 10):\n",
    "        random_number = random.randint(0, len(temp)-1)\n",
    "        df.append(temp[random_number])\n",
    "    return df\n",
    "\n",
    "def output_movId():\n",
    "    df = random_chosen()\n",
    "    dfs = []\n",
    "    for i in range(0, len(df)):\n",
    "        for j in range(0, 1319):\n",
    "            if df[i] in mov['title'][j]:\n",
    "                dfs.append(mov['movieId'][j])\n",
    "    return dfs\n",
    "\n",
    "lst = output_movId()\n",
    "for i in range(0,len(lst)):\n",
    "    if lst[i] == 4 or lst[i] == 8:\n",
    "        del lst[i]\n",
    "mlist = ['mId' + str(x) for x in lst]\n",
    "\n",
    "train_data = train_mov.loc[:, mlist]\n",
    "train_labels = train_mov.loc[:, 'mId1197']\n",
    "test_data = test_mov.loc[:, mlist]\n",
    "test_labels = test_mov.loc[:, 'mId1197']"
   ]
  },
  {
   "cell_type": "code",
   "execution_count": null,
   "metadata": {
    "colab": {
     "base_uri": "https://localhost:8080/"
    },
    "id": "XUYaTrT3BFXc",
    "outputId": "e6a50e25-0b05-4fde-c0a0-72194b54ea5d"
   },
   "outputs": [
    {
     "name": "stdout",
     "output_type": "stream",
     "text": [
      "Predictions from the classifier:\n",
      "[0 0 0 ... 0 0 0]\n",
      "Target values:\n",
      "0       1\n",
      "1       1\n",
      "2       0\n",
      "3       0\n",
      "4       0\n",
      "       ..\n",
      "6995    0\n",
      "6996    0\n",
      "6997    0\n",
      "6998    1\n",
      "6999    1\n",
      "Name: mId1197, Length: 7000, dtype: int64\n"
     ]
    }
   ],
   "source": [
    "knn = KNeighborsClassifier()\n",
    "knn.fit(train_data, train_labels) \n",
    "\n",
    "predicted = knn.predict(train_data)\n",
    "print(\"Predictions from the classifier:\")\n",
    "print(predicted)\n",
    "print(\"Target values:\")\n",
    "print(train_labels)"
   ]
  },
  {
   "cell_type": "markdown",
   "metadata": {
    "id": "43ff9916"
   },
   "source": [
    "<b> 3) Use ‘your_model.predict(training_data)’ to generate the 0/1 class predictions on the training set using the default delta value of 0.5. Look at the confusion matrix (table of predictions vs. true values) with the code from class. Report and explain the meaning of the accuracy, precision, and recall measures. How good is the performance of this model in the context of what you are trying to achieve? </b>\n"
   ]
  },
  {
   "cell_type": "code",
   "execution_count": null,
   "metadata": {
    "colab": {
     "base_uri": "https://localhost:8080/",
     "height": 470
    },
    "id": "bfdad1f0",
    "outputId": "30b6bcd3-1edd-44bd-aa79-50bcbc4babe3"
   },
   "outputs": [
    {
     "name": "stdout",
     "output_type": "stream",
     "text": [
      "[0 0 0 ... 0 0 0]\n",
      "Accuracy: 0.7844285714285715\n"
     ]
    },
    {
     "data": {
      "image/png": "[encoded data removed]",
      "text/plain": [
       "<Figure size 432x288 with 2 Axes>"
      ]
     },
     "metadata": {
      "needs_background": "light"
     },
     "output_type": "display_data"
    },
    {
     "name": "stdout",
     "output_type": "stream",
     "text": [
      "              precision    recall  f1-score   support\n",
      "\n",
      "           0       0.79      0.98      0.87      5316\n",
      "           1       0.75      0.15      0.26      1684\n",
      "\n",
      "    accuracy                           0.78      7000\n",
      "   macro avg       0.77      0.57      0.57      7000\n",
      "weighted avg       0.78      0.78      0.73      7000\n",
      "\n"
     ]
    }
   ],
   "source": [
    "#Answer to 3)\n",
    "import sklearn.metrics\n",
    "class_predictions = knn.predict(train_data)\n",
    "print(class_predictions)\n",
    "print(\"Accuracy:\", sklearn.metrics.accuracy_score(train_labels, class_predictions))\n",
    "confusion_matrix = sklearn.metrics.confusion_matrix(train_labels, class_predictions)\n",
    "cm_display = sklearn.metrics.ConfusionMatrixDisplay(confusion_matrix = confusion_matrix, display_labels = [False, True])\n",
    "cm_display.plot()\n",
    "plt.show()\n",
    "print(sklearn.metrics.classification_report(train_labels, class_predictions))"
   ]
  },
  {
   "cell_type": "markdown",
   "metadata": {
    "id": "f88500aa"
   },
   "source": [
    "<b> 4) Adapt the code from class to extract the probabilities that each user in the training data will watch TPB. For the range of possible delta thresholds, make a table of TP, FP, TN, and FN on the training data if we use each cutoff.  Use the financial costs in the introduction to evaluate the total cost (or profit) of each cutoff decision.</b> \n",
    "\n",
    "<b> From this table and the context in the introduction, what decisions should you make? In other words, what probability cutoff value is the best decision to send users ads? </b> "
   ]
  },
  {
   "cell_type": "code",
   "execution_count": null,
   "metadata": {
    "colab": {
     "base_uri": "https://localhost:8080/",
     "height": 839
    },
    "id": "379b12ab",
    "outputId": "466d90a1-f53c-4195-efd7-6f5f8f53986a"
   },
   "outputs": [
    {
     "name": "stdout",
     "output_type": "stream",
     "text": [
      "[[1.  0. ]\n",
      " [0.6 0.4]\n",
      " [1.  0. ]\n",
      " ...\n",
      " [1.  0. ]\n",
      " [1.  0. ]\n",
      " [0.8 0.2]]\n"
     ]
    },
    {
     "data": {
      "image/png": "[encoded data removed]",
      "text/plain": [
       "<Figure size 432x288 with 2 Axes>"
      ]
     },
     "metadata": {
      "needs_background": "light"
     },
     "output_type": "display_data"
    },
    {
     "name": "stdout",
     "output_type": "stream",
     "text": [
      "              precision    recall  f1-score   support\n",
      "\n",
      "           0       0.80      0.94      0.86      5316\n",
      "           1       0.57      0.23      0.33      1684\n",
      "\n",
      "    accuracy                           0.77      7000\n",
      "   macro avg       0.68      0.59      0.60      7000\n",
      "weighted avg       0.74      0.77      0.73      7000\n",
      "\n"
     ]
    },
    {
     "data": {
      "image/png": "[encoded data removed]",
      "text/plain": [
       "<Figure size 432x288 with 1 Axes>"
      ]
     },
     "metadata": {
      "needs_background": "light"
     },
     "output_type": "display_data"
    }
   ],
   "source": [
    "#Answer to 4)\n",
    "#Generate probability predictions\n",
    "prob_predictions = knn.predict_proba(train_data)\n",
    "print(prob_predictions)\n",
    "delta = 0.3\n",
    "class_predictions = []\n",
    "for i in range(len(prob_predictions)):\n",
    "    if prob_predictions[i,1] >= delta:\n",
    "        class_predictions.append(1)\n",
    "    else:\n",
    "        class_predictions.append(0)\n",
    "confusion_matrix = sklearn.metrics.confusion_matrix(train_labels, class_predictions)\n",
    "cm_display = sklearn.metrics.ConfusionMatrixDisplay(confusion_matrix = confusion_matrix, display_labels = [False, True])\n",
    "cm_display.plot()\n",
    "plt.show()\n",
    "print(sklearn.metrics.classification_report(train_labels, class_predictions))\n",
    "fpr, tpr, thresholds = sklearn.metrics.roc_curve(train_labels, prob_predictions[:,1])\n",
    "logit_roc_auc = sklearn.metrics.roc_auc_score(train_labels, prob_predictions[:,1])\n",
    "fpr, tpr, thresholds = sklearn.metrics.roc_curve(train_labels, prob_predictions[:,1])\n",
    "plt.figure()\n",
    "plt.plot(fpr, tpr, label='Logistic Regression (area = %0.2f)' % logit_roc_auc)\n",
    "plt.plot([0, 1], [0, 1],'r--')\n",
    "plt.xlim([0.0, 1.0])\n",
    "plt.ylim([0.0, 1.05])\n",
    "plt.xlabel('False Positive Rate')\n",
    "plt.ylabel('True Positive Rate')\n",
    "plt.title('Receiver operating characteristic')\n",
    "plt.legend(loc=\"lower right\")\n",
    "plt.savefig('Log_ROC')\n",
    "plt.show()\n",
    "\n",
    "perf = []\n",
    "\n",
    "for delta in thresholds:\n",
    "    TP = np.sum(np.logical_and(prob_predictions[:,1] >= delta, train_labels == 1))\n",
    "    FP = np.sum(np.logical_and(prob_predictions[:,1] >= delta, train_labels == 0))\n",
    "    TN = np.sum(np.logical_and(prob_predictions[:,1] < delta, train_labels == 0))\n",
    "    FN = np.sum(np.logical_and(prob_predictions[:,1] < delta, train_labels == 1))\n",
    "    perf.append([delta, TP, FP, TN, FN])\n",
    "    \n",
    "perf_table = pd.DataFrame(perf, columns = ['Delta', 'True Positives', 'False Positives', 'True Negatives', 'False Negatives'])"
   ]
  },
  {
   "cell_type": "code",
   "execution_count": null,
   "metadata": {
    "colab": {
     "base_uri": "https://localhost:8080/",
     "height": 269
    },
    "id": "TH647puPWdH3",
    "outputId": "db7c8b11-3d08-4b5e-a15f-2c945890f23c"
   },
   "outputs": [
    {
     "data": {
      "text/html": [
       "\n",
       "  <div id=\"df-ce1e0b6e-d57f-47fc-b1b5-40c9f337b231\">\n",
       "    <div class=\"colab-df-container\">\n",
       "      <div>\n",
       "<style scoped>\n",
       "    .dataframe tbody tr th:only-of-type {\n",
       "        vertical-align: middle;\n",
       "    }\n",
       "\n",
       "    .dataframe tbody tr th {\n",
       "        vertical-align: top;\n",
       "    }\n",
       "\n",
       "    .dataframe thead th {\n",
       "        text-align: right;\n",
       "    }\n",
       "</style>\n",
       "<table border=\"1\" class=\"dataframe\">\n",
       "  <thead>\n",
       "    <tr style=\"text-align: right;\">\n",
       "      <th></th>\n",
       "      <th>Delta</th>\n",
       "      <th>True Positives</th>\n",
       "      <th>False Positives</th>\n",
       "      <th>True Negatives</th>\n",
       "      <th>False Negatives</th>\n",
       "      <th>Profit</th>\n",
       "    </tr>\n",
       "  </thead>\n",
       "  <tbody>\n",
       "    <tr>\n",
       "      <th>0</th>\n",
       "      <td>2.0</td>\n",
       "      <td>0</td>\n",
       "      <td>0</td>\n",
       "      <td>5316</td>\n",
       "      <td>1684</td>\n",
       "      <td>0.0</td>\n",
       "    </tr>\n",
       "    <tr>\n",
       "      <th>1</th>\n",
       "      <td>1.0</td>\n",
       "      <td>136</td>\n",
       "      <td>38</td>\n",
       "      <td>5278</td>\n",
       "      <td>1548</td>\n",
       "      <td>101.2</td>\n",
       "    </tr>\n",
       "    <tr>\n",
       "      <th>2</th>\n",
       "      <td>0.8</td>\n",
       "      <td>184</td>\n",
       "      <td>46</td>\n",
       "      <td>5270</td>\n",
       "      <td>1500</td>\n",
       "      <td>138.0</td>\n",
       "    </tr>\n",
       "    <tr>\n",
       "      <th>3</th>\n",
       "      <td>0.6</td>\n",
       "      <td>261</td>\n",
       "      <td>86</td>\n",
       "      <td>5230</td>\n",
       "      <td>1423</td>\n",
       "      <td>191.6</td>\n",
       "    </tr>\n",
       "    <tr>\n",
       "      <th>4</th>\n",
       "      <td>0.4</td>\n",
       "      <td>391</td>\n",
       "      <td>300</td>\n",
       "      <td>5016</td>\n",
       "      <td>1293</td>\n",
       "      <td>252.8</td>\n",
       "    </tr>\n",
       "    <tr>\n",
       "      <th>5</th>\n",
       "      <td>0.2</td>\n",
       "      <td>920</td>\n",
       "      <td>1598</td>\n",
       "      <td>3718</td>\n",
       "      <td>764</td>\n",
       "      <td>416.4</td>\n",
       "    </tr>\n",
       "    <tr>\n",
       "      <th>6</th>\n",
       "      <td>0.0</td>\n",
       "      <td>1684</td>\n",
       "      <td>5316</td>\n",
       "      <td>0</td>\n",
       "      <td>0</td>\n",
       "      <td>284.0</td>\n",
       "    </tr>\n",
       "  </tbody>\n",
       "</table>\n",
       "</div>\n",
       "      <button class=\"colab-df-convert\" onclick=\"convertToInteractive('df-ce1e0b6e-d57f-47fc-b1b5-40c9f337b231')\"\n",
       "              title=\"Convert this dataframe to an interactive table.\"\n",
       "              style=\"display:none;\">\n",
       "        \n",
       "  <svg xmlns=\"http://www.w3.org/2000/svg\" height=\"24px\"viewBox=\"0 0 24 24\"\n",
       "       width=\"24px\">\n",
       "    <path d=\"M0 0h24v24H0V0z\" fill=\"none\"/>\n",
       "    <path d=\"M18.56 5.44l.94 2.06.94-2.06 2.06-.94-2.06-.94-.94-2.06-.94 2.06-2.06.94zm-11 1L8.5 8.5l.94-2.06 2.06-.94-2.06-.94L8.5 2.5l-.94 2.06-2.06.94zm10 10l.94 2.06.94-2.06 2.06-.94-2.06-.94-.94-2.06-.94 2.06-2.06.94z\"/><path d=\"M17.41 7.96l-1.37-1.37c-.4-.4-.92-.59-1.43-.59-.52 0-1.04.2-1.43.59L10.3 9.45l-7.72 7.72c-.78.78-.78 2.05 0 2.83L4 21.41c.39.39.9.59 1.41.59.51 0 1.02-.2 1.41-.59l7.78-7.78 2.81-2.81c.8-.78.8-2.07 0-2.86zM5.41 20L4 18.59l7.72-7.72 1.47 1.35L5.41 20z\"/>\n",
       "  </svg>\n",
       "      </button>\n",
       "      \n",
       "  <style>\n",
       "    .colab-df-container {\n",
       "      display:flex;\n",
       "      flex-wrap:wrap;\n",
       "      gap: 12px;\n",
       "    }\n",
       "\n",
       "    .colab-df-convert {\n",
       "      background-color: #E8F0FE;\n",
       "      border: none;\n",
       "      border-radius: 50%;\n",
       "      cursor: pointer;\n",
       "      display: none;\n",
       "      fill: #1967D2;\n",
       "      height: 32px;\n",
       "      padding: 0 0 0 0;\n",
       "      width: 32px;\n",
       "    }\n",
       "\n",
       "    .colab-df-convert:hover {\n",
       "      background-color: #E2EBFA;\n",
       "      box-shadow: 0px 1px 2px rgba(60, 64, 67, 0.3), 0px 1px 3px 1px rgba(60, 64, 67, 0.15);\n",
       "      fill: #174EA6;\n",
       "    }\n",
       "\n",
       "    [theme=dark] .colab-df-convert {\n",
       "      background-color: #3B4455;\n",
       "      fill: #D2E3FC;\n",
       "    }\n",
       "\n",
       "    [theme=dark] .colab-df-convert:hover {\n",
       "      background-color: #434B5C;\n",
       "      box-shadow: 0px 1px 3px 1px rgba(0, 0, 0, 0.15);\n",
       "      filter: drop-shadow(0px 1px 2px rgba(0, 0, 0, 0.3));\n",
       "      fill: #FFFFFF;\n",
       "    }\n",
       "  </style>\n",
       "\n",
       "      <script>\n",
       "        const buttonEl =\n",
       "          document.querySelector('#df-ce1e0b6e-d57f-47fc-b1b5-40c9f337b231 button.colab-df-convert');\n",
       "        buttonEl.style.display =\n",
       "          google.colab.kernel.accessAllowed ? 'block' : 'none';\n",
       "\n",
       "        async function convertToInteractive(key) {\n",
       "          const element = document.querySelector('#df-ce1e0b6e-d57f-47fc-b1b5-40c9f337b231');\n",
       "          const dataTable =\n",
       "            await google.colab.kernel.invokeFunction('convertToInteractive',\n",
       "                                                     [key], {});\n",
       "          if (!dataTable) return;\n",
       "\n",
       "          const docLinkHtml = 'Like what you see? Visit the ' +\n",
       "            '<a target=\"_blank\" href=https://colab.research.google.com/notebooks/data_table.ipynb>data table notebook</a>'\n",
       "            + ' to learn more about interactive tables.';\n",
       "          element.innerHTML = '';\n",
       "          dataTable['output_type'] = 'display_data';\n",
       "          await google.colab.output.renderOutput(dataTable, element);\n",
       "          const docLink = document.createElement('div');\n",
       "          docLink.innerHTML = docLinkHtml;\n",
       "          element.appendChild(docLink);\n",
       "        }\n",
       "      </script>\n",
       "    </div>\n",
       "  </div>\n",
       "  "
      ],
      "text/plain": [
       "   Delta  True Positives  False Positives  True Negatives  False Negatives  \\\n",
       "0    2.0               0                0            5316             1684   \n",
       "1    1.0             136               38            5278             1548   \n",
       "2    0.8             184               46            5270             1500   \n",
       "3    0.6             261               86            5230             1423   \n",
       "4    0.4             391              300            5016             1293   \n",
       "5    0.2             920             1598            3718              764   \n",
       "6    0.0            1684             5316               0                0   \n",
       "\n",
       "   Profit  \n",
       "0     0.0  \n",
       "1   101.2  \n",
       "2   138.0  \n",
       "3   191.6  \n",
       "4   252.8  \n",
       "5   416.4  \n",
       "6   284.0  "
      ]
     },
     "execution_count": 369,
     "metadata": {},
     "output_type": "execute_result"
    }
   ],
   "source": [
    "perf_table['Profit'] = 0.8*perf_table['True Positives'] - 0.2*perf_table['False Positives']\n",
    "perf_table"
   ]
  },
  {
   "cell_type": "code",
   "execution_count": null,
   "metadata": {
    "colab": {
     "base_uri": "https://localhost:8080/",
     "height": 296
    },
    "id": "iDHF7w1ZWgxg",
    "outputId": "256eb314-c19e-44be-d71b-979d99f6d24e"
   },
   "outputs": [
    {
     "data": {
      "text/plain": [
       "Text(0, 0.5, 'Profit')"
      ]
     },
     "execution_count": 370,
     "metadata": {},
     "output_type": "execute_result"
    },
    {
     "data": {
      "image/png": "[encoded data removed]",
      "text/plain": [
       "<Figure size 432x288 with 1 Axes>"
      ]
     },
     "metadata": {
      "needs_background": "light"
     },
     "output_type": "display_data"
    }
   ],
   "source": [
    "plt.plot(perf_table['Delta'], perf_table['Profit'])\n",
    "plt.xlim(0, 1)\n",
    "plt.xlabel(\"Delta\")\n",
    "plt.ylabel(\"Profit\")"
   ]
  },
  {
   "cell_type": "markdown",
   "metadata": {
    "id": "92b3b1a5"
   },
   "source": [
    "With advanced prediction methods, there are often user-input parameters that need to be tweaked to produce better predictions.  The critical parameter in k-nearest neighbors is k, which describes how many of the most similar points to consider in making the prediction.  The simplest way to find the best k is to try lots of values and see which gives the most profit.  Often there is a clear best value, with profits decreasing for higher or lower k.  The bottom of the python-course hyperlink above gives an efficient way to code this.\n",
    "\n",
    "<b> 5) Adapt your prediction model and step 4 to find the k that produces the best profit.  What k do you find is best, and what profit do you make? </b> "
   ]
  },
  {
   "cell_type": "code",
   "execution_count": null,
   "metadata": {
    "colab": {
     "base_uri": "https://localhost:8080/",
     "height": 81
    },
    "id": "fdc4647f",
    "outputId": "45535f3e-199c-4ba4-f1b4-7ce1e8b484b1"
   },
   "outputs": [
    {
     "data": {
      "text/html": [
       "\n",
       "  <div id=\"df-483bcbe6-b004-4a4c-9e69-25a87485a0ac\">\n",
       "    <div class=\"colab-df-container\">\n",
       "      <div>\n",
       "<style scoped>\n",
       "    .dataframe tbody tr th:only-of-type {\n",
       "        vertical-align: middle;\n",
       "    }\n",
       "\n",
       "    .dataframe tbody tr th {\n",
       "        vertical-align: top;\n",
       "    }\n",
       "\n",
       "    .dataframe thead th {\n",
       "        text-align: right;\n",
       "    }\n",
       "</style>\n",
       "<table border=\"1\" class=\"dataframe\">\n",
       "  <thead>\n",
       "    <tr style=\"text-align: right;\">\n",
       "      <th></th>\n",
       "      <th>Delta</th>\n",
       "      <th>True Positives</th>\n",
       "      <th>False Positives</th>\n",
       "      <th>True Negatives</th>\n",
       "      <th>False Negatives</th>\n",
       "      <th>Profit</th>\n",
       "    </tr>\n",
       "  </thead>\n",
       "  <tbody>\n",
       "    <tr>\n",
       "      <th>5</th>\n",
       "      <td>0.2</td>\n",
       "      <td>920</td>\n",
       "      <td>1598</td>\n",
       "      <td>3718</td>\n",
       "      <td>764</td>\n",
       "      <td>416.4</td>\n",
       "    </tr>\n",
       "  </tbody>\n",
       "</table>\n",
       "</div>\n",
       "      <button class=\"colab-df-convert\" onclick=\"convertToInteractive('df-483bcbe6-b004-4a4c-9e69-25a87485a0ac')\"\n",
       "              title=\"Convert this dataframe to an interactive table.\"\n",
       "              style=\"display:none;\">\n",
       "        \n",
       "  <svg xmlns=\"http://www.w3.org/2000/svg\" height=\"24px\"viewBox=\"0 0 24 24\"\n",
       "       width=\"24px\">\n",
       "    <path d=\"M0 0h24v24H0V0z\" fill=\"none\"/>\n",
       "    <path d=\"M18.56 5.44l.94 2.06.94-2.06 2.06-.94-2.06-.94-.94-2.06-.94 2.06-2.06.94zm-11 1L8.5 8.5l.94-2.06 2.06-.94-2.06-.94L8.5 2.5l-.94 2.06-2.06.94zm10 10l.94 2.06.94-2.06 2.06-.94-2.06-.94-.94-2.06-.94 2.06-2.06.94z\"/><path d=\"M17.41 7.96l-1.37-1.37c-.4-.4-.92-.59-1.43-.59-.52 0-1.04.2-1.43.59L10.3 9.45l-7.72 7.72c-.78.78-.78 2.05 0 2.83L4 21.41c.39.39.9.59 1.41.59.51 0 1.02-.2 1.41-.59l7.78-7.78 2.81-2.81c.8-.78.8-2.07 0-2.86zM5.41 20L4 18.59l7.72-7.72 1.47 1.35L5.41 20z\"/>\n",
       "  </svg>\n",
       "      </button>\n",
       "      \n",
       "  <style>\n",
       "    .colab-df-container {\n",
       "      display:flex;\n",
       "      flex-wrap:wrap;\n",
       "      gap: 12px;\n",
       "    }\n",
       "\n",
       "    .colab-df-convert {\n",
       "      background-color: #E8F0FE;\n",
       "      border: none;\n",
       "      border-radius: 50%;\n",
       "      cursor: pointer;\n",
       "      display: none;\n",
       "      fill: #1967D2;\n",
       "      height: 32px;\n",
       "      padding: 0 0 0 0;\n",
       "      width: 32px;\n",
       "    }\n",
       "\n",
       "    .colab-df-convert:hover {\n",
       "      background-color: #E2EBFA;\n",
       "      box-shadow: 0px 1px 2px rgba(60, 64, 67, 0.3), 0px 1px 3px 1px rgba(60, 64, 67, 0.15);\n",
       "      fill: #174EA6;\n",
       "    }\n",
       "\n",
       "    [theme=dark] .colab-df-convert {\n",
       "      background-color: #3B4455;\n",
       "      fill: #D2E3FC;\n",
       "    }\n",
       "\n",
       "    [theme=dark] .colab-df-convert:hover {\n",
       "      background-color: #434B5C;\n",
       "      box-shadow: 0px 1px 3px 1px rgba(0, 0, 0, 0.15);\n",
       "      filter: drop-shadow(0px 1px 2px rgba(0, 0, 0, 0.3));\n",
       "      fill: #FFFFFF;\n",
       "    }\n",
       "  </style>\n",
       "\n",
       "      <script>\n",
       "        const buttonEl =\n",
       "          document.querySelector('#df-483bcbe6-b004-4a4c-9e69-25a87485a0ac button.colab-df-convert');\n",
       "        buttonEl.style.display =\n",
       "          google.colab.kernel.accessAllowed ? 'block' : 'none';\n",
       "\n",
       "        async function convertToInteractive(key) {\n",
       "          const element = document.querySelector('#df-483bcbe6-b004-4a4c-9e69-25a87485a0ac');\n",
       "          const dataTable =\n",
       "            await google.colab.kernel.invokeFunction('convertToInteractive',\n",
       "                                                     [key], {});\n",
       "          if (!dataTable) return;\n",
       "\n",
       "          const docLinkHtml = 'Like what you see? Visit the ' +\n",
       "            '<a target=\"_blank\" href=https://colab.research.google.com/notebooks/data_table.ipynb>data table notebook</a>'\n",
       "            + ' to learn more about interactive tables.';\n",
       "          element.innerHTML = '';\n",
       "          dataTable['output_type'] = 'display_data';\n",
       "          await google.colab.output.renderOutput(dataTable, element);\n",
       "          const docLink = document.createElement('div');\n",
       "          docLink.innerHTML = docLinkHtml;\n",
       "          element.appendChild(docLink);\n",
       "        }\n",
       "      </script>\n",
       "    </div>\n",
       "  </div>\n",
       "  "
      ],
      "text/plain": [
       "   Delta  True Positives  False Positives  True Negatives  False Negatives  \\\n",
       "5    0.2             920             1598            3718              764   \n",
       "\n",
       "   Profit  \n",
       "5   416.4  "
      ]
     },
     "execution_count": 371,
     "metadata": {},
     "output_type": "execute_result"
    }
   ],
   "source": [
    "#Answer to 5)\n",
    "best = perf_table.iloc[[perf_table['Profit'].idxmax()]]\n",
    "best"
   ]
  },
  {
   "cell_type": "code",
   "execution_count": null,
   "metadata": {
    "colab": {
     "base_uri": "https://localhost:8080/",
     "height": 296
    },
    "id": "dm31MhShzal6",
    "outputId": "2bce7c93-50e0-4dc2-cbcc-cff03ba4726b"
   },
   "outputs": [
    {
     "name": "stdout",
     "output_type": "stream",
     "text": [
      "Max profit: 416.80000000000007 k= 15 delta= 0.2\n"
     ]
    },
    {
     "data": {
      "image/png": "[encoded data removed]",
      "text/plain": [
       "<Figure size 432x288 with 1 Axes>"
      ]
     },
     "metadata": {
      "needs_background": "light"
     },
     "output_type": "display_data"
    }
   ],
   "source": [
    "X, Y = [], []\n",
    "\n",
    "for k in range(1, 40):\n",
    "    knn = KNeighborsClassifier(n_neighbors=k, \n",
    "                                      p=2,    # Euclidian\n",
    "                                      metric=\"minkowski\")\n",
    "    knn.fit(train_data, train_labels)\n",
    "    prediction = knn.predict_proba(train_data)\n",
    "    delta = float(best['Delta'])\n",
    "    perf = []\n",
    "    TP = np.sum(np.logical_and(prediction[:,1] >= delta, train_labels == 1))\n",
    "    FP = np.sum(np.logical_and(prediction[:,1] >= delta, train_labels == 0))\n",
    "    TN = np.sum(np.logical_and(prediction[:,1] < delta, train_labels == 0))\n",
    "    FN = np.sum(np.logical_and(prediction[:,1] < delta, train_labels == 1))\n",
    "    perf.append([delta, TP, FP, TN, FN])\n",
    "    perf_table = pd.DataFrame(perf, columns = ['Delta', 'True Positives', 'False Positives', 'True Negatives', 'False Negatives'])\n",
    "    perf_table['Profit'] = 0.8*perf_table['True Positives'] - 0.2*perf_table['False Positives']\n",
    "    profit = perf_table.iloc[[perf_table['Profit'].idxmax()]]\n",
    "    X.append(k)\n",
    "    Y.append(profit['Profit'])\n",
    "temp1 = 0\n",
    "temp2 = 0\n",
    "for i in range(39):\n",
    "    if float(Y[i]) > temp1:\n",
    "        temp1 = float(Y[i])\n",
    "        temp2 = i\n",
    "fig, ax = plt.subplots()\n",
    "ax.set_xlabel('k')\n",
    "ax.set_ylabel('profit')\n",
    "ax.plot(X, Y, \"go\")\n",
    "print('Max profit:', temp1, 'k=' ,temp2, 'delta=', float(best['Delta']))"
   ]
  },
  {
   "cell_type": "markdown",
   "metadata": {
    "id": "b886e9d2"
   },
   "source": [
    "Suppose you implement your best solution from 5). A week goes by, and during that week you observe all the users in the test_movies data (making decisions to send each user an ad or not based on your solution). In other words, envision that for every user in the test data, you have observed their movie rating history for every movie except TPB. You make decisions about whether or not to send ads to each user, and one week later those with a TPB rating have responded positively to your ad and rented the movie, while those without a TPB rating have not rented it.\n",
    "\n",
    "<b> 6) Finally it’s time to translate your findings into results a CEO would want to see. If we apply your method to all users who have not seen TPB for the next year,\n",
    "    \n",
    "<b>a) How many users will rent the movie using your decisions?\n",
    "    \n",
    "<b>b) What profit would we expect to make? (Be sure to consider both the revenue from rentals and money spent on advertising.) How would this compare to a baseline where we sent ads to every user?\n",
    "    \n",
    "<b>c) How much money would be wasted on advertisements that don’t encourage a user to rent the movie?\n",
    "    \n",
    "<b>d) How many users do we potentially miss that would have rented if we had advertised to them? </b>\n",
    "\n",
    "Think carefully about how we can use the data from the test set and your answer to 5) to evaluate this.  Be careful of the time units described. A moderate portion of your grade on this lab will depend on how well you can answer this question and how well you can evaluate how much profit you can reasonably generate from your decisions.\n"
   ]
  },
  {
   "cell_type": "code",
   "execution_count": null,
   "metadata": {
    "colab": {
     "base_uri": "https://localhost:8080/",
     "height": 81
    },
    "id": "3K8t-Y4msl20",
    "outputId": "0671bfc2-a1a2-4fb8-9ab5-5c41d96c6312"
   },
   "outputs": [
    {
     "data": {
      "text/html": [
       "\n",
       "  <div id=\"df-54ed7c4c-7a30-41e5-9e15-6c1e611e6fb9\">\n",
       "    <div class=\"colab-df-container\">\n",
       "      <div>\n",
       "<style scoped>\n",
       "    .dataframe tbody tr th:only-of-type {\n",
       "        vertical-align: middle;\n",
       "    }\n",
       "\n",
       "    .dataframe tbody tr th {\n",
       "        vertical-align: top;\n",
       "    }\n",
       "\n",
       "    .dataframe thead th {\n",
       "        text-align: right;\n",
       "    }\n",
       "</style>\n",
       "<table border=\"1\" class=\"dataframe\">\n",
       "  <thead>\n",
       "    <tr style=\"text-align: right;\">\n",
       "      <th></th>\n",
       "      <th>Delta</th>\n",
       "      <th>True Positives</th>\n",
       "      <th>False Positives</th>\n",
       "      <th>True Negatives</th>\n",
       "      <th>False Negatives</th>\n",
       "      <th>Profit</th>\n",
       "    </tr>\n",
       "  </thead>\n",
       "  <tbody>\n",
       "    <tr>\n",
       "      <th>0</th>\n",
       "      <td>0.2</td>\n",
       "      <td>355</td>\n",
       "      <td>727</td>\n",
       "      <td>1572</td>\n",
       "      <td>327</td>\n",
       "      <td>138.6</td>\n",
       "    </tr>\n",
       "  </tbody>\n",
       "</table>\n",
       "</div>\n",
       "      <button class=\"colab-df-convert\" onclick=\"convertToInteractive('df-54ed7c4c-7a30-41e5-9e15-6c1e611e6fb9')\"\n",
       "              title=\"Convert this dataframe to an interactive table.\"\n",
       "              style=\"display:none;\">\n",
       "        \n",
       "  <svg xmlns=\"http://www.w3.org/2000/svg\" height=\"24px\"viewBox=\"0 0 24 24\"\n",
       "       width=\"24px\">\n",
       "    <path d=\"M0 0h24v24H0V0z\" fill=\"none\"/>\n",
       "    <path d=\"M18.56 5.44l.94 2.06.94-2.06 2.06-.94-2.06-.94-.94-2.06-.94 2.06-2.06.94zm-11 1L8.5 8.5l.94-2.06 2.06-.94-2.06-.94L8.5 2.5l-.94 2.06-2.06.94zm10 10l.94 2.06.94-2.06 2.06-.94-2.06-.94-.94-2.06-.94 2.06-2.06.94z\"/><path d=\"M17.41 7.96l-1.37-1.37c-.4-.4-.92-.59-1.43-.59-.52 0-1.04.2-1.43.59L10.3 9.45l-7.72 7.72c-.78.78-.78 2.05 0 2.83L4 21.41c.39.39.9.59 1.41.59.51 0 1.02-.2 1.41-.59l7.78-7.78 2.81-2.81c.8-.78.8-2.07 0-2.86zM5.41 20L4 18.59l7.72-7.72 1.47 1.35L5.41 20z\"/>\n",
       "  </svg>\n",
       "      </button>\n",
       "      \n",
       "  <style>\n",
       "    .colab-df-container {\n",
       "      display:flex;\n",
       "      flex-wrap:wrap;\n",
       "      gap: 12px;\n",
       "    }\n",
       "\n",
       "    .colab-df-convert {\n",
       "      background-color: #E8F0FE;\n",
       "      border: none;\n",
       "      border-radius: 50%;\n",
       "      cursor: pointer;\n",
       "      display: none;\n",
       "      fill: #1967D2;\n",
       "      height: 32px;\n",
       "      padding: 0 0 0 0;\n",
       "      width: 32px;\n",
       "    }\n",
       "\n",
       "    .colab-df-convert:hover {\n",
       "      background-color: #E2EBFA;\n",
       "      box-shadow: 0px 1px 2px rgba(60, 64, 67, 0.3), 0px 1px 3px 1px rgba(60, 64, 67, 0.15);\n",
       "      fill: #174EA6;\n",
       "    }\n",
       "\n",
       "    [theme=dark] .colab-df-convert {\n",
       "      background-color: #3B4455;\n",
       "      fill: #D2E3FC;\n",
       "    }\n",
       "\n",
       "    [theme=dark] .colab-df-convert:hover {\n",
       "      background-color: #434B5C;\n",
       "      box-shadow: 0px 1px 3px 1px rgba(0, 0, 0, 0.15);\n",
       "      filter: drop-shadow(0px 1px 2px rgba(0, 0, 0, 0.3));\n",
       "      fill: #FFFFFF;\n",
       "    }\n",
       "  </style>\n",
       "\n",
       "      <script>\n",
       "        const buttonEl =\n",
       "          document.querySelector('#df-54ed7c4c-7a30-41e5-9e15-6c1e611e6fb9 button.colab-df-convert');\n",
       "        buttonEl.style.display =\n",
       "          google.colab.kernel.accessAllowed ? 'block' : 'none';\n",
       "\n",
       "        async function convertToInteractive(key) {\n",
       "          const element = document.querySelector('#df-54ed7c4c-7a30-41e5-9e15-6c1e611e6fb9');\n",
       "          const dataTable =\n",
       "            await google.colab.kernel.invokeFunction('convertToInteractive',\n",
       "                                                     [key], {});\n",
       "          if (!dataTable) return;\n",
       "\n",
       "          const docLinkHtml = 'Like what you see? Visit the ' +\n",
       "            '<a target=\"_blank\" href=https://colab.research.google.com/notebooks/data_table.ipynb>data table notebook</a>'\n",
       "            + ' to learn more about interactive tables.';\n",
       "          element.innerHTML = '';\n",
       "          dataTable['output_type'] = 'display_data';\n",
       "          await google.colab.output.renderOutput(dataTable, element);\n",
       "          const docLink = document.createElement('div');\n",
       "          docLink.innerHTML = docLinkHtml;\n",
       "          element.appendChild(docLink);\n",
       "        }\n",
       "      </script>\n",
       "    </div>\n",
       "  </div>\n",
       "  "
      ],
      "text/plain": [
       "   Delta  True Positives  False Positives  True Negatives  False Negatives  \\\n",
       "0    0.2             355              727            1572              327   \n",
       "\n",
       "   Profit  \n",
       "0   138.6  "
      ]
     },
     "execution_count": 373,
     "metadata": {},
     "output_type": "execute_result"
    }
   ],
   "source": [
    "knn = KNeighborsClassifier(n_neighbors=int(temp1), \n",
    "                                      p=2,    # Euclidian\n",
    "                                      metric=\"minkowski\")\n",
    "knn.fit(train_data, train_labels)\n",
    "prob_predictions = knn.predict_proba(test_data)\n",
    "delta = float(best['Delta'])\n",
    "perf = []\n",
    "TP = np.sum(np.logical_and(prob_predictions[:,1] >= delta, test_labels == 1))\n",
    "FP = np.sum(np.logical_and(prob_predictions[:,1] >= delta, test_labels == 0))\n",
    "TN = np.sum(np.logical_and(prob_predictions[:,1] < delta, test_labels == 0))\n",
    "FN = np.sum(np.logical_and(prob_predictions[:,1] < delta, test_labels == 1))\n",
    "perf.append([delta, TP, FP, TN, FN])\n",
    "perf_table = pd.DataFrame(perf, columns = ['Delta', 'True Positives', 'False Positives', 'True Negatives', 'False Negatives'])\n",
    "perf_table['Profit'] = 0.8*perf_table['True Positives'] - 0.2*perf_table['False Positives']\n",
    "bests = perf_table.iloc[[perf_table['Profit'].idxmax()]]\n",
    "bests"
   ]
  },
  {
   "cell_type": "code",
   "execution_count": null,
   "metadata": {
    "colab": {
     "base_uri": "https://localhost:8080/",
     "height": 81
    },
    "id": "xCunxCiyI1DW",
    "outputId": "ef180543-3a9d-452b-d7e7-77aff50eb5da"
   },
   "outputs": [
    {
     "data": {
      "text/html": [
       "\n",
       "  <div id=\"df-ce7da331-4699-4e4f-b0e2-9163bdad11f5\">\n",
       "    <div class=\"colab-df-container\">\n",
       "      <div>\n",
       "<style scoped>\n",
       "    .dataframe tbody tr th:only-of-type {\n",
       "        vertical-align: middle;\n",
       "    }\n",
       "\n",
       "    .dataframe tbody tr th {\n",
       "        vertical-align: top;\n",
       "    }\n",
       "\n",
       "    .dataframe thead th {\n",
       "        text-align: right;\n",
       "    }\n",
       "</style>\n",
       "<table border=\"1\" class=\"dataframe\">\n",
       "  <thead>\n",
       "    <tr style=\"text-align: right;\">\n",
       "      <th></th>\n",
       "      <th>Delta</th>\n",
       "      <th>True Positives</th>\n",
       "      <th>False Positives</th>\n",
       "      <th>True Negatives</th>\n",
       "      <th>False Negatives</th>\n",
       "      <th>Profit</th>\n",
       "    </tr>\n",
       "  </thead>\n",
       "  <tbody>\n",
       "    <tr>\n",
       "      <th>0</th>\n",
       "      <td>0</td>\n",
       "      <td>682</td>\n",
       "      <td>2299</td>\n",
       "      <td>0</td>\n",
       "      <td>0</td>\n",
       "      <td>85.8</td>\n",
       "    </tr>\n",
       "  </tbody>\n",
       "</table>\n",
       "</div>\n",
       "      <button class=\"colab-df-convert\" onclick=\"convertToInteractive('df-ce7da331-4699-4e4f-b0e2-9163bdad11f5')\"\n",
       "              title=\"Convert this dataframe to an interactive table.\"\n",
       "              style=\"display:none;\">\n",
       "        \n",
       "  <svg xmlns=\"http://www.w3.org/2000/svg\" height=\"24px\"viewBox=\"0 0 24 24\"\n",
       "       width=\"24px\">\n",
       "    <path d=\"M0 0h24v24H0V0z\" fill=\"none\"/>\n",
       "    <path d=\"M18.56 5.44l.94 2.06.94-2.06 2.06-.94-2.06-.94-.94-2.06-.94 2.06-2.06.94zm-11 1L8.5 8.5l.94-2.06 2.06-.94-2.06-.94L8.5 2.5l-.94 2.06-2.06.94zm10 10l.94 2.06.94-2.06 2.06-.94-2.06-.94-.94-2.06-.94 2.06-2.06.94z\"/><path d=\"M17.41 7.96l-1.37-1.37c-.4-.4-.92-.59-1.43-.59-.52 0-1.04.2-1.43.59L10.3 9.45l-7.72 7.72c-.78.78-.78 2.05 0 2.83L4 21.41c.39.39.9.59 1.41.59.51 0 1.02-.2 1.41-.59l7.78-7.78 2.81-2.81c.8-.78.8-2.07 0-2.86zM5.41 20L4 18.59l7.72-7.72 1.47 1.35L5.41 20z\"/>\n",
       "  </svg>\n",
       "      </button>\n",
       "      \n",
       "  <style>\n",
       "    .colab-df-container {\n",
       "      display:flex;\n",
       "      flex-wrap:wrap;\n",
       "      gap: 12px;\n",
       "    }\n",
       "\n",
       "    .colab-df-convert {\n",
       "      background-color: #E8F0FE;\n",
       "      border: none;\n",
       "      border-radius: 50%;\n",
       "      cursor: pointer;\n",
       "      display: none;\n",
       "      fill: #1967D2;\n",
       "      height: 32px;\n",
       "      padding: 0 0 0 0;\n",
       "      width: 32px;\n",
       "    }\n",
       "\n",
       "    .colab-df-convert:hover {\n",
       "      background-color: #E2EBFA;\n",
       "      box-shadow: 0px 1px 2px rgba(60, 64, 67, 0.3), 0px 1px 3px 1px rgba(60, 64, 67, 0.15);\n",
       "      fill: #174EA6;\n",
       "    }\n",
       "\n",
       "    [theme=dark] .colab-df-convert {\n",
       "      background-color: #3B4455;\n",
       "      fill: #D2E3FC;\n",
       "    }\n",
       "\n",
       "    [theme=dark] .colab-df-convert:hover {\n",
       "      background-color: #434B5C;\n",
       "      box-shadow: 0px 1px 3px 1px rgba(0, 0, 0, 0.15);\n",
       "      filter: drop-shadow(0px 1px 2px rgba(0, 0, 0, 0.3));\n",
       "      fill: #FFFFFF;\n",
       "    }\n",
       "  </style>\n",
       "\n",
       "      <script>\n",
       "        const buttonEl =\n",
       "          document.querySelector('#df-ce7da331-4699-4e4f-b0e2-9163bdad11f5 button.colab-df-convert');\n",
       "        buttonEl.style.display =\n",
       "          google.colab.kernel.accessAllowed ? 'block' : 'none';\n",
       "\n",
       "        async function convertToInteractive(key) {\n",
       "          const element = document.querySelector('#df-ce7da331-4699-4e4f-b0e2-9163bdad11f5');\n",
       "          const dataTable =\n",
       "            await google.colab.kernel.invokeFunction('convertToInteractive',\n",
       "                                                     [key], {});\n",
       "          if (!dataTable) return;\n",
       "\n",
       "          const docLinkHtml = 'Like what you see? Visit the ' +\n",
       "            '<a target=\"_blank\" href=https://colab.research.google.com/notebooks/data_table.ipynb>data table notebook</a>'\n",
       "            + ' to learn more about interactive tables.';\n",
       "          element.innerHTML = '';\n",
       "          dataTable['output_type'] = 'display_data';\n",
       "          await google.colab.output.renderOutput(dataTable, element);\n",
       "          const docLink = document.createElement('div');\n",
       "          docLink.innerHTML = docLinkHtml;\n",
       "          element.appendChild(docLink);\n",
       "        }\n",
       "      </script>\n",
       "    </div>\n",
       "  </div>\n",
       "  "
      ],
      "text/plain": [
       "   Delta  True Positives  False Positives  True Negatives  False Negatives  \\\n",
       "0      0             682             2299               0                0   \n",
       "\n",
       "   Profit  \n",
       "0    85.8  "
      ]
     },
     "execution_count": 379,
     "metadata": {},
     "output_type": "execute_result"
    }
   ],
   "source": [
    "knn = KNeighborsClassifier(n_neighbors=int(temp1), \n",
    "                                      p=2,    # Euclidian\n",
    "                                      metric=\"minkowski\")\n",
    "knn.fit(train_data, train_labels)\n",
    "prob_predictions = knn.predict_proba(test_data)\n",
    "delta = 0\n",
    "perf = []\n",
    "TP = np.sum(np.logical_and(prob_predictions[:,1] >= delta, test_labels == 1))\n",
    "FP = np.sum(np.logical_and(prob_predictions[:,1] >= delta, test_labels == 0))\n",
    "TN = np.sum(np.logical_and(prob_predictions[:,1] < delta, test_labels == 0))\n",
    "FN = np.sum(np.logical_and(prob_predictions[:,1] < delta, test_labels == 1))\n",
    "perf.append([delta, TP, FP, TN, FN])\n",
    "perf_table = pd.DataFrame(perf, columns = ['Delta', 'True Positives', 'False Positives', 'True Negatives', 'False Negatives'])\n",
    "perf_table['Profit'] = 0.8*perf_table['True Positives'] - 0.2*perf_table['False Positives']\n",
    "bests = perf_table.iloc[[perf_table['Profit'].idxmax()]]\n",
    "bests"
   ]
  },
  {
   "cell_type": "code",
   "execution_count": null,
   "metadata": {
    "colab": {
     "base_uri": "https://localhost:8080/"
    },
    "id": "Qr0fhig4b4Ro",
    "outputId": "f18ab8e3-dea6-4d13-f2a6-551422fcb846"
   },
   "outputs": [
    {
     "name": "stdout",
     "output_type": "stream",
     "text": [
      "682\n"
     ]
    }
   ],
   "source": [
    "#a) How many users will rent the movie using your decisions?\n",
    "print(int(bests['False Negatives'] + bests['True Positives']))"
   ]
  },
  {
   "cell_type": "code",
   "execution_count": 1,
   "metadata": {
    "colab": {
     "base_uri": "https://localhost:8080/"
    },
    "id": "-Bt34cSWjmL3",
    "outputId": "d032e173-d28d-4fee-bf9f-ecaf2f84b96c"
   },
   "outputs": [
    {
     "data": {
      "text/plain": [
       "52.8"
      ]
     },
     "execution_count": 1,
     "metadata": {},
     "output_type": "execute_result"
    }
   ],
   "source": [
    "#b) What profit would we expect to make? (Be sure to consider both the revenue \n",
    "#from rentals and money spent on advertising.) How would this compare to a baseline where we sent ads to every user?\n",
    "138.6-85.8"
   ]
  },
  {
   "cell_type": "code",
   "execution_count": null,
   "metadata": {
    "colab": {
     "base_uri": "https://localhost:8080/"
    },
    "id": "vDdS9rW4jpE6",
    "outputId": "69324b82-d2aa-4a74-ddf6-1dbd4cb13e81"
   },
   "outputs": [
    {
     "data": {
      "text/plain": [
       "145.4"
      ]
     },
     "execution_count": 381,
     "metadata": {},
     "output_type": "execute_result"
    }
   ],
   "source": [
    "#c) How much money would be wasted on advertisements that don’t encourage a user to rent the movie?\n",
    "0.2 * 727"
   ]
  },
  {
   "cell_type": "code",
   "execution_count": null,
   "metadata": {
    "id": "apohK3umjyD_"
   },
   "outputs": [],
   "source": [
    "#d) How many users do we potentially miss that would have rented if we had advertised to them?\n"
   ]
  },
  {
   "cell_type": "markdown",
   "metadata": {
    "id": "97p5JYHSOdV7"
   },
   "source": [
    "The person would have rented if we had advertised to them is FN (False Negative), which is 1572 persons"
   ]
  },
  {
   "cell_type": "markdown",
   "metadata": {
    "id": "22000dd1"
   },
   "source": [
    "Your Answer to 6)"
   ]
  }
 ],
 "metadata": {
  "colab": {
   "provenance": []
  },
  "kernelspec": {
   "display_name": "Python 3",
   "language": "python",
   "name": "python3"
  },
  "language_info": {
   "codemirror_mode": {
    "name": "ipython",
    "version": 3
   },
   "file_extension": ".py",
   "mimetype": "text/x-python",
   "name": "python",
   "nbconvert_exporter": "python",
   "pygments_lexer": "ipython3",
   "version": "3.8.3"
  }
 },
 "nbformat": 4,
 "nbformat_minor": 5
}
